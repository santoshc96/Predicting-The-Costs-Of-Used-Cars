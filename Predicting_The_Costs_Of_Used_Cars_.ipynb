{
  "nbformat": 4,
  "nbformat_minor": 0,
  "metadata": {
    "colab": {
      "name": "Predicting The Costs Of Used Cars .ipynb",
      "provenance": [],
      "collapsed_sections": []
    },
    "kernelspec": {
      "name": "python3",
      "display_name": "Python 3"
    },
    "language_info": {
      "name": "python"
    }
  },
  "cells": [
    {
      "cell_type": "code",
      "metadata": {
        "id": "IeIK5RnlkRw2"
      },
      "source": [
        "import pandas as pd\n",
        "import numpy as np\n",
        "import matplotlib.pyplot as plt\n",
        "import warnings\n",
        "import seaborn as sns\n",
        "sns.set_style('darkgrid')\n",
        "warnings.filterwarnings('ignore')"
      ],
      "execution_count": 1,
      "outputs": []
    },
    {
      "cell_type": "code",
      "metadata": {
        "id": "WC0fhW4hkjQt"
      },
      "source": [
        "train = pd.read_excel('/content/Data_Train.xlsx')\n",
        "test = pd.read_excel('/content/Data_Test.xlsx')"
      ],
      "execution_count": 2,
      "outputs": []
    },
    {
      "cell_type": "code",
      "metadata": {
        "colab": {
          "base_uri": "https://localhost:8080/"
        },
        "id": "So5b-MEAkyJN",
        "outputId": "c8cc3a30-3e95-4833-ea67-65d883acb20a"
      },
      "source": [
        "train.shape, test.shape"
      ],
      "execution_count": 3,
      "outputs": [
        {
          "output_type": "execute_result",
          "data": {
            "text/plain": [
              "((6019, 13), (1234, 12))"
            ]
          },
          "metadata": {
            "tags": []
          },
          "execution_count": 3
        }
      ]
    },
    {
      "cell_type": "code",
      "metadata": {
        "colab": {
          "base_uri": "https://localhost:8080/"
        },
        "id": "czjhFssyk0AT",
        "outputId": "4221e1dd-af66-4a38-d7a2-7b58fa042f4e"
      },
      "source": [
        "train.duplicated().sum(), test.duplicated().sum()"
      ],
      "execution_count": 4,
      "outputs": [
        {
          "output_type": "execute_result",
          "data": {
            "text/plain": [
              "(0, 1)"
            ]
          },
          "metadata": {
            "tags": []
          },
          "execution_count": 4
        }
      ]
    },
    {
      "cell_type": "code",
      "metadata": {
        "colab": {
          "base_uri": "https://localhost:8080/",
          "height": 140
        },
        "id": "SvxEd-z9k1rS",
        "outputId": "8789c5fc-d27c-47cd-ffe9-5659adb53f63"
      },
      "source": [
        "train.head(2)"
      ],
      "execution_count": 5,
      "outputs": [
        {
          "output_type": "execute_result",
          "data": {
            "text/html": [
              "<div>\n",
              "<style scoped>\n",
              "    .dataframe tbody tr th:only-of-type {\n",
              "        vertical-align: middle;\n",
              "    }\n",
              "\n",
              "    .dataframe tbody tr th {\n",
              "        vertical-align: top;\n",
              "    }\n",
              "\n",
              "    .dataframe thead th {\n",
              "        text-align: right;\n",
              "    }\n",
              "</style>\n",
              "<table border=\"1\" class=\"dataframe\">\n",
              "  <thead>\n",
              "    <tr style=\"text-align: right;\">\n",
              "      <th></th>\n",
              "      <th>Name</th>\n",
              "      <th>Location</th>\n",
              "      <th>Year</th>\n",
              "      <th>Kilometers_Driven</th>\n",
              "      <th>Fuel_Type</th>\n",
              "      <th>Transmission</th>\n",
              "      <th>Owner_Type</th>\n",
              "      <th>Mileage</th>\n",
              "      <th>Engine</th>\n",
              "      <th>Power</th>\n",
              "      <th>Seats</th>\n",
              "      <th>New_Price</th>\n",
              "      <th>Price</th>\n",
              "    </tr>\n",
              "  </thead>\n",
              "  <tbody>\n",
              "    <tr>\n",
              "      <th>0</th>\n",
              "      <td>Maruti Wagon R LXI CNG</td>\n",
              "      <td>Mumbai</td>\n",
              "      <td>2010</td>\n",
              "      <td>72000</td>\n",
              "      <td>CNG</td>\n",
              "      <td>Manual</td>\n",
              "      <td>First</td>\n",
              "      <td>26.6 km/kg</td>\n",
              "      <td>998 CC</td>\n",
              "      <td>58.16 bhp</td>\n",
              "      <td>5.0</td>\n",
              "      <td>NaN</td>\n",
              "      <td>1.75</td>\n",
              "    </tr>\n",
              "    <tr>\n",
              "      <th>1</th>\n",
              "      <td>Hyundai Creta 1.6 CRDi SX Option</td>\n",
              "      <td>Pune</td>\n",
              "      <td>2015</td>\n",
              "      <td>41000</td>\n",
              "      <td>Diesel</td>\n",
              "      <td>Manual</td>\n",
              "      <td>First</td>\n",
              "      <td>19.67 kmpl</td>\n",
              "      <td>1582 CC</td>\n",
              "      <td>126.2 bhp</td>\n",
              "      <td>5.0</td>\n",
              "      <td>NaN</td>\n",
              "      <td>12.50</td>\n",
              "    </tr>\n",
              "  </tbody>\n",
              "</table>\n",
              "</div>"
            ],
            "text/plain": [
              "                               Name Location  Year  ...  Seats New_Price  Price\n",
              "0            Maruti Wagon R LXI CNG   Mumbai  2010  ...    5.0       NaN   1.75\n",
              "1  Hyundai Creta 1.6 CRDi SX Option     Pune  2015  ...    5.0       NaN  12.50\n",
              "\n",
              "[2 rows x 13 columns]"
            ]
          },
          "metadata": {
            "tags": []
          },
          "execution_count": 5
        }
      ]
    },
    {
      "cell_type": "code",
      "metadata": {
        "colab": {
          "base_uri": "https://localhost:8080/"
        },
        "id": "Az2DXB_ik3Aa",
        "outputId": "e39ccdb2-2e03-44a6-eaa1-5b648c2fc34e"
      },
      "source": [
        "train.info()"
      ],
      "execution_count": 6,
      "outputs": [
        {
          "output_type": "stream",
          "text": [
            "<class 'pandas.core.frame.DataFrame'>\n",
            "RangeIndex: 6019 entries, 0 to 6018\n",
            "Data columns (total 13 columns):\n",
            " #   Column             Non-Null Count  Dtype  \n",
            "---  ------             --------------  -----  \n",
            " 0   Name               6019 non-null   object \n",
            " 1   Location           6019 non-null   object \n",
            " 2   Year               6019 non-null   int64  \n",
            " 3   Kilometers_Driven  6019 non-null   int64  \n",
            " 4   Fuel_Type          6019 non-null   object \n",
            " 5   Transmission       6019 non-null   object \n",
            " 6   Owner_Type         6019 non-null   object \n",
            " 7   Mileage            6017 non-null   object \n",
            " 8   Engine             5983 non-null   object \n",
            " 9   Power              5983 non-null   object \n",
            " 10  Seats              5977 non-null   float64\n",
            " 11  New_Price          824 non-null    object \n",
            " 12  Price              6019 non-null   float64\n",
            "dtypes: float64(2), int64(2), object(9)\n",
            "memory usage: 611.4+ KB\n"
          ],
          "name": "stdout"
        }
      ]
    },
    {
      "cell_type": "code",
      "metadata": {
        "colab": {
          "base_uri": "https://localhost:8080/"
        },
        "id": "d2t_txN1k4XC",
        "outputId": "2c95c2d1-5945-4d1d-c471-9c5cb538f0ae"
      },
      "source": [
        "\n",
        "train.isnull().sum()"
      ],
      "execution_count": 7,
      "outputs": [
        {
          "output_type": "execute_result",
          "data": {
            "text/plain": [
              "Name                    0\n",
              "Location                0\n",
              "Year                    0\n",
              "Kilometers_Driven       0\n",
              "Fuel_Type               0\n",
              "Transmission            0\n",
              "Owner_Type              0\n",
              "Mileage                 2\n",
              "Engine                 36\n",
              "Power                  36\n",
              "Seats                  42\n",
              "New_Price            5195\n",
              "Price                   0\n",
              "dtype: int64"
            ]
          },
          "metadata": {
            "tags": []
          },
          "execution_count": 7
        }
      ]
    },
    {
      "cell_type": "code",
      "metadata": {
        "colab": {
          "base_uri": "https://localhost:8080/"
        },
        "id": "XAqjfIa_k5xW",
        "outputId": "69290797-ab62-4273-bdde-f5d90f4b8c4c"
      },
      "source": [
        "train.nunique()"
      ],
      "execution_count": 8,
      "outputs": [
        {
          "output_type": "execute_result",
          "data": {
            "text/plain": [
              "Name                 1876\n",
              "Location               11\n",
              "Year                   22\n",
              "Kilometers_Driven    3093\n",
              "Fuel_Type               5\n",
              "Transmission            2\n",
              "Owner_Type              4\n",
              "Mileage               442\n",
              "Engine                146\n",
              "Power                 372\n",
              "Seats                   9\n",
              "New_Price             540\n",
              "Price                1373\n",
              "dtype: int64"
            ]
          },
          "metadata": {
            "tags": []
          },
          "execution_count": 8
        }
      ]
    },
    {
      "cell_type": "code",
      "metadata": {
        "id": "gwzb7djgk7V-"
      },
      "source": [
        "\n",
        "train = train[train['Kilometers_Driven'] < 700000]\n",
        "train = train[train['Kilometers_Driven'] > 999]"
      ],
      "execution_count": 9,
      "outputs": []
    },
    {
      "cell_type": "code",
      "metadata": {
        "colab": {
          "base_uri": "https://localhost:8080/"
        },
        "id": "KW7jOjnWk89O",
        "outputId": "b0ece9d8-2a26-4d6f-a2f1-395eff7a5e2d"
      },
      "source": [
        "train = train[train['Fuel_Type'] != 'Electric']\n",
        "len(train)"
      ],
      "execution_count": 10,
      "outputs": [
        {
          "output_type": "execute_result",
          "data": {
            "text/plain": [
              "6012"
            ]
          },
          "metadata": {
            "tags": []
          },
          "execution_count": 10
        }
      ]
    },
    {
      "cell_type": "code",
      "metadata": {
        "colab": {
          "base_uri": "https://localhost:8080/"
        },
        "id": "uuTBMlrxk-Ha",
        "outputId": "1b8c9091-b667-4c10-f274-20553a389a40"
      },
      "source": [
        "train = train[train['Name'] != 'Ambassador Classic Nova Diesel']\n",
        "train = train[train['Name'] != 'Lamborghini Gallardo Coupe']\n",
        "train = train[train['Name'] != 'Force One LX 4x4']\n",
        "train = train[train['Name'] != 'Force One LX ABS 7 Seating']\n",
        "train = train[train['Name'] != 'Smart Fortwo CDI AT']\n",
        "len(train)"
      ],
      "execution_count": 11,
      "outputs": [
        {
          "output_type": "execute_result",
          "data": {
            "text/plain": [
              "6006"
            ]
          },
          "metadata": {
            "tags": []
          },
          "execution_count": 11
        }
      ]
    },
    {
      "cell_type": "code",
      "metadata": {
        "colab": {
          "base_uri": "https://localhost:8080/",
          "height": 279
        },
        "id": "xXP3gkLuk_ki",
        "outputId": "f9b3e989-9a8e-4147-c13a-a88108bce58d"
      },
      "source": [
        "df = train.append(test, ignore_index=True, sort=False)\n",
        "df.head()"
      ],
      "execution_count": 12,
      "outputs": [
        {
          "output_type": "execute_result",
          "data": {
            "text/html": [
              "<div>\n",
              "<style scoped>\n",
              "    .dataframe tbody tr th:only-of-type {\n",
              "        vertical-align: middle;\n",
              "    }\n",
              "\n",
              "    .dataframe tbody tr th {\n",
              "        vertical-align: top;\n",
              "    }\n",
              "\n",
              "    .dataframe thead th {\n",
              "        text-align: right;\n",
              "    }\n",
              "</style>\n",
              "<table border=\"1\" class=\"dataframe\">\n",
              "  <thead>\n",
              "    <tr style=\"text-align: right;\">\n",
              "      <th></th>\n",
              "      <th>Name</th>\n",
              "      <th>Location</th>\n",
              "      <th>Year</th>\n",
              "      <th>Kilometers_Driven</th>\n",
              "      <th>Fuel_Type</th>\n",
              "      <th>Transmission</th>\n",
              "      <th>Owner_Type</th>\n",
              "      <th>Mileage</th>\n",
              "      <th>Engine</th>\n",
              "      <th>Power</th>\n",
              "      <th>Seats</th>\n",
              "      <th>New_Price</th>\n",
              "      <th>Price</th>\n",
              "    </tr>\n",
              "  </thead>\n",
              "  <tbody>\n",
              "    <tr>\n",
              "      <th>0</th>\n",
              "      <td>Maruti Wagon R LXI CNG</td>\n",
              "      <td>Mumbai</td>\n",
              "      <td>2010</td>\n",
              "      <td>72000</td>\n",
              "      <td>CNG</td>\n",
              "      <td>Manual</td>\n",
              "      <td>First</td>\n",
              "      <td>26.6 km/kg</td>\n",
              "      <td>998 CC</td>\n",
              "      <td>58.16 bhp</td>\n",
              "      <td>5.0</td>\n",
              "      <td>NaN</td>\n",
              "      <td>1.75</td>\n",
              "    </tr>\n",
              "    <tr>\n",
              "      <th>1</th>\n",
              "      <td>Hyundai Creta 1.6 CRDi SX Option</td>\n",
              "      <td>Pune</td>\n",
              "      <td>2015</td>\n",
              "      <td>41000</td>\n",
              "      <td>Diesel</td>\n",
              "      <td>Manual</td>\n",
              "      <td>First</td>\n",
              "      <td>19.67 kmpl</td>\n",
              "      <td>1582 CC</td>\n",
              "      <td>126.2 bhp</td>\n",
              "      <td>5.0</td>\n",
              "      <td>NaN</td>\n",
              "      <td>12.50</td>\n",
              "    </tr>\n",
              "    <tr>\n",
              "      <th>2</th>\n",
              "      <td>Honda Jazz V</td>\n",
              "      <td>Chennai</td>\n",
              "      <td>2011</td>\n",
              "      <td>46000</td>\n",
              "      <td>Petrol</td>\n",
              "      <td>Manual</td>\n",
              "      <td>First</td>\n",
              "      <td>18.2 kmpl</td>\n",
              "      <td>1199 CC</td>\n",
              "      <td>88.7 bhp</td>\n",
              "      <td>5.0</td>\n",
              "      <td>8.61 Lakh</td>\n",
              "      <td>4.50</td>\n",
              "    </tr>\n",
              "    <tr>\n",
              "      <th>3</th>\n",
              "      <td>Maruti Ertiga VDI</td>\n",
              "      <td>Chennai</td>\n",
              "      <td>2012</td>\n",
              "      <td>87000</td>\n",
              "      <td>Diesel</td>\n",
              "      <td>Manual</td>\n",
              "      <td>First</td>\n",
              "      <td>20.77 kmpl</td>\n",
              "      <td>1248 CC</td>\n",
              "      <td>88.76 bhp</td>\n",
              "      <td>7.0</td>\n",
              "      <td>NaN</td>\n",
              "      <td>6.00</td>\n",
              "    </tr>\n",
              "    <tr>\n",
              "      <th>4</th>\n",
              "      <td>Audi A4 New 2.0 TDI Multitronic</td>\n",
              "      <td>Coimbatore</td>\n",
              "      <td>2013</td>\n",
              "      <td>40670</td>\n",
              "      <td>Diesel</td>\n",
              "      <td>Automatic</td>\n",
              "      <td>Second</td>\n",
              "      <td>15.2 kmpl</td>\n",
              "      <td>1968 CC</td>\n",
              "      <td>140.8 bhp</td>\n",
              "      <td>5.0</td>\n",
              "      <td>NaN</td>\n",
              "      <td>17.74</td>\n",
              "    </tr>\n",
              "  </tbody>\n",
              "</table>\n",
              "</div>"
            ],
            "text/plain": [
              "                               Name    Location  Year  ...  Seats  New_Price  Price\n",
              "0            Maruti Wagon R LXI CNG      Mumbai  2010  ...    5.0        NaN   1.75\n",
              "1  Hyundai Creta 1.6 CRDi SX Option        Pune  2015  ...    5.0        NaN  12.50\n",
              "2                      Honda Jazz V     Chennai  2011  ...    5.0  8.61 Lakh   4.50\n",
              "3                 Maruti Ertiga VDI     Chennai  2012  ...    7.0        NaN   6.00\n",
              "4   Audi A4 New 2.0 TDI Multitronic  Coimbatore  2013  ...    5.0        NaN  17.74\n",
              "\n",
              "[5 rows x 13 columns]"
            ]
          },
          "metadata": {
            "tags": []
          },
          "execution_count": 12
        }
      ]
    },
    {
      "cell_type": "code",
      "metadata": {
        "id": "38nU3maxlB4C"
      },
      "source": [
        "df['Car_Age'] = 2019 - df['Year']\n",
        "df['Mileage'] = df['Mileage'].apply(lambda x : str(x).split(' ')[0]).astype(float)\n",
        "df['Engine'] = df['Engine'].apply(lambda x : str(x).split(\" \")[0]).astype(float)\n",
        "df['Power'] = df['Power'].replace('null bhp','0 bhp').apply(lambda x : str(x).split(' ')[0]).astype(float)\n",
        "df['Seats'] = df['Seats'].fillna(5)"
      ],
      "execution_count": 13,
      "outputs": []
    },
    {
      "cell_type": "code",
      "metadata": {
        "id": "I_LyMw0OlJKO"
      },
      "source": [
        "df['New_Price'] = df['New_Price'].fillna('-1 Lakhs').apply(lambda x: x.split(' ')[0]) \n",
        "df['New_Price'] = df['New_Price'].astype(float).replace(-1, np.nan)\n",
        "df['Year'] = df['Year'].astype('category')\n",
        "df['Location'] = df['Location'].astype('category')\n",
        "df['Fuel_Type'] = df['Fuel_Type'].astype('category')\n",
        "df['Transmission'] = df['Transmission'].astype('category')\n",
        "df['Owner_Type'] = df['Owner_Type'].astype('category')"
      ],
      "execution_count": 14,
      "outputs": []
    },
    {
      "cell_type": "code",
      "metadata": {
        "colab": {
          "base_uri": "https://localhost:8080/"
        },
        "id": "Gw0wlmBHlMhK",
        "outputId": "3a47aac7-57f5-41a4-e322-3a6baae07899"
      },
      "source": [
        "df.isnull().sum()"
      ],
      "execution_count": 15,
      "outputs": [
        {
          "output_type": "execute_result",
          "data": {
            "text/plain": [
              "Name                    0\n",
              "Location                0\n",
              "Year                    0\n",
              "Kilometers_Driven       0\n",
              "Fuel_Type               0\n",
              "Transmission            0\n",
              "Owner_Type              0\n",
              "Mileage                 0\n",
              "Engine                 46\n",
              "Power                  46\n",
              "Seats                   0\n",
              "New_Price            6236\n",
              "Price                1234\n",
              "Car_Age                 0\n",
              "dtype: int64"
            ]
          },
          "metadata": {
            "tags": []
          },
          "execution_count": 15
        }
      ]
    },
    {
      "cell_type": "code",
      "metadata": {
        "colab": {
          "base_uri": "https://localhost:8080/"
        },
        "id": "YazV3KChlN2O",
        "outputId": "67a63c26-5a96-4c1c-93c4-f11b4fa8eb91"
      },
      "source": [
        "df['Car_Brand1'] = df['Name'].apply(lambda x: ' '.join(x.split(' ')[:2]))\n",
        "df['Engine'] = df.groupby(['Car_Brand1']).transform(lambda x: x.fillna(x.median()))['Engine']\n",
        "df['Power'] = df.groupby(['Car_Brand1']).transform(lambda x: x.fillna(x.median()))['Power']\n",
        "df['New_Price'] = df.groupby(['Car_Brand1']).transform(lambda x: x.fillna(x.mean()))['New_Price']\n",
        "df.isnull().sum()"
      ],
      "execution_count": 16,
      "outputs": [
        {
          "output_type": "execute_result",
          "data": {
            "text/plain": [
              "Name                    0\n",
              "Location                0\n",
              "Year                    0\n",
              "Kilometers_Driven       0\n",
              "Fuel_Type               0\n",
              "Transmission            0\n",
              "Owner_Type              0\n",
              "Mileage                 0\n",
              "Engine                  0\n",
              "Power                   0\n",
              "Seats                   0\n",
              "New_Price            1504\n",
              "Price                1234\n",
              "Car_Age                 0\n",
              "Car_Brand1              0\n",
              "dtype: int64"
            ]
          },
          "metadata": {
            "tags": []
          },
          "execution_count": 16
        }
      ]
    },
    {
      "cell_type": "code",
      "metadata": {
        "colab": {
          "base_uri": "https://localhost:8080/"
        },
        "id": "MbVkDyO9lQ_C",
        "outputId": "39aafbba-4a63-4c3b-ef49-695e69536b9f"
      },
      "source": [
        "df['Car_Brand2'] = df['Name'].apply(lambda x: x.split(' ')[0])\n",
        "df['New_Price'] = df.groupby(['Car_Brand2']).transform(lambda x: x.fillna(x.mean()))['New_Price']\n",
        "df.isnull().sum()"
      ],
      "execution_count": 17,
      "outputs": [
        {
          "output_type": "execute_result",
          "data": {
            "text/plain": [
              "Name                    0\n",
              "Location                0\n",
              "Year                    0\n",
              "Kilometers_Driven       0\n",
              "Fuel_Type               0\n",
              "Transmission            0\n",
              "Owner_Type              0\n",
              "Mileage                 0\n",
              "Engine                  0\n",
              "Power                   0\n",
              "Seats                   0\n",
              "New_Price             156\n",
              "Price                1234\n",
              "Car_Age                 0\n",
              "Car_Brand1              0\n",
              "Car_Brand2              0\n",
              "dtype: int64"
            ]
          },
          "metadata": {
            "tags": []
          },
          "execution_count": 17
        }
      ]
    },
    {
      "cell_type": "code",
      "metadata": {
        "id": "Jg0jIHHklVMa"
      },
      "source": [
        "def aggregate_functions(df):        \n",
        "    \n",
        "    agg_func = {\n",
        "        'Location' : ['count'],\n",
        "        'Mileage' : ['mean'],\n",
        "        'Power' : ['mean'],\n",
        "        'Engine' : ['mean'] }\n",
        "    \n",
        "    agg_df = df.groupby(['Car_Brand1']).agg(agg_func)\n",
        "    agg_df.columns = ['_'.join(col).strip() for col in agg_df.columns.values]\n",
        "    agg_df.reset_index(inplace=True)\n",
        "    \n",
        "    agg_df = pd.merge(df, agg_df, on='Car_Brand1', how='left')\n",
        "    \n",
        "    return agg_df"
      ],
      "execution_count": 18,
      "outputs": []
    },
    {
      "cell_type": "code",
      "metadata": {
        "id": "ALG45qOclYDr"
      },
      "source": [
        "df = aggregate_functions(df)"
      ],
      "execution_count": 19,
      "outputs": []
    },
    {
      "cell_type": "code",
      "metadata": {
        "colab": {
          "base_uri": "https://localhost:8080/",
          "height": 147
        },
        "id": "g_w5ERaWlZqe",
        "outputId": "07065915-c0eb-46c7-eafa-9d90ae6053b9"
      },
      "source": [
        "\n",
        "df.head(1)"
      ],
      "execution_count": 20,
      "outputs": [
        {
          "output_type": "execute_result",
          "data": {
            "text/html": [
              "<div>\n",
              "<style scoped>\n",
              "    .dataframe tbody tr th:only-of-type {\n",
              "        vertical-align: middle;\n",
              "    }\n",
              "\n",
              "    .dataframe tbody tr th {\n",
              "        vertical-align: top;\n",
              "    }\n",
              "\n",
              "    .dataframe thead th {\n",
              "        text-align: right;\n",
              "    }\n",
              "</style>\n",
              "<table border=\"1\" class=\"dataframe\">\n",
              "  <thead>\n",
              "    <tr style=\"text-align: right;\">\n",
              "      <th></th>\n",
              "      <th>Name</th>\n",
              "      <th>Location</th>\n",
              "      <th>Year</th>\n",
              "      <th>Kilometers_Driven</th>\n",
              "      <th>Fuel_Type</th>\n",
              "      <th>Transmission</th>\n",
              "      <th>Owner_Type</th>\n",
              "      <th>Mileage</th>\n",
              "      <th>Engine</th>\n",
              "      <th>Power</th>\n",
              "      <th>Seats</th>\n",
              "      <th>New_Price</th>\n",
              "      <th>Price</th>\n",
              "      <th>Car_Age</th>\n",
              "      <th>Car_Brand1</th>\n",
              "      <th>Car_Brand2</th>\n",
              "      <th>Location_count</th>\n",
              "      <th>Mileage_mean</th>\n",
              "      <th>Power_mean</th>\n",
              "      <th>Engine_mean</th>\n",
              "    </tr>\n",
              "  </thead>\n",
              "  <tbody>\n",
              "    <tr>\n",
              "      <th>0</th>\n",
              "      <td>Maruti Wagon R LXI CNG</td>\n",
              "      <td>Mumbai</td>\n",
              "      <td>2010</td>\n",
              "      <td>72000</td>\n",
              "      <td>CNG</td>\n",
              "      <td>Manual</td>\n",
              "      <td>First</td>\n",
              "      <td>26.6</td>\n",
              "      <td>998.0</td>\n",
              "      <td>58.16</td>\n",
              "      <td>5.0</td>\n",
              "      <td>5.439318</td>\n",
              "      <td>1.75</td>\n",
              "      <td>9</td>\n",
              "      <td>Maruti Wagon</td>\n",
              "      <td>Maruti</td>\n",
              "      <td>177</td>\n",
              "      <td>20.912373</td>\n",
              "      <td>66.201808</td>\n",
              "      <td>1014.056497</td>\n",
              "    </tr>\n",
              "  </tbody>\n",
              "</table>\n",
              "</div>"
            ],
            "text/plain": [
              "                     Name Location  Year  ...  Mileage_mean Power_mean  Engine_mean\n",
              "0  Maruti Wagon R LXI CNG   Mumbai  2010  ...     20.912373  66.201808  1014.056497\n",
              "\n",
              "[1 rows x 20 columns]"
            ]
          },
          "metadata": {
            "tags": []
          },
          "execution_count": 20
        }
      ]
    },
    {
      "cell_type": "code",
      "metadata": {
        "id": "kBYbmYJ5la3G"
      },
      "source": [
        "from sklearn.feature_extraction.text import TfidfVectorizer\n",
        "tf1 = TfidfVectorizer(lowercase=True, stop_words='english', ngram_range=(1, 1), max_df=1.0, min_df=2, binary=True)\n",
        "df_name = tf1.fit_transform(df['Name'])\n",
        "df_name = pd.DataFrame(data=df_name.toarray(), columns=tf1.get_feature_names())\n",
        "\n",
        "df = pd.concat([df, df_name], axis=1)"
      ],
      "execution_count": 21,
      "outputs": []
    },
    {
      "cell_type": "code",
      "metadata": {
        "id": "uN9I5F3Ele-a"
      },
      "source": [
        "df.drop(['Name','Car_Brand1','Car_Brand2'], axis=1, inplace=True)"
      ],
      "execution_count": 22,
      "outputs": []
    },
    {
      "cell_type": "code",
      "metadata": {
        "id": "zSP7skUbliUy"
      },
      "source": [
        "train_df = df[df['Price'].isnull()!=True]\n",
        "test_df = df[df['Price'].isnull()==True]\n",
        "test_df.drop('Price', axis=1, inplace=True)"
      ],
      "execution_count": 23,
      "outputs": []
    },
    {
      "cell_type": "code",
      "metadata": {
        "colab": {
          "base_uri": "https://localhost:8080/"
        },
        "id": "wu517bFulj_6",
        "outputId": "38231bd4-d9e1-4edd-bc8f-0c75e034be63"
      },
      "source": [
        "train_df.shape, test_df.shape"
      ],
      "execution_count": 24,
      "outputs": [
        {
          "output_type": "execute_result",
          "data": {
            "text/plain": [
              "((6006, 670), (1234, 669))"
            ]
          },
          "metadata": {
            "tags": []
          },
          "execution_count": 24
        }
      ]
    },
    {
      "cell_type": "code",
      "metadata": {
        "id": "L8JxiR3ullku"
      },
      "source": [
        "train_df['Price'] = np.log1p(train_df['Price'])"
      ],
      "execution_count": 25,
      "outputs": []
    },
    {
      "cell_type": "code",
      "metadata": {
        "id": "B3uLzSdulmuu"
      },
      "source": [
        "X = train_df.drop(labels=['Price'], axis=1)\n",
        "y = train_df['Price'].values\n",
        "\n",
        "from sklearn.model_selection import train_test_split\n",
        "X_train, X_cv, y_train, y_cv = train_test_split(X, y, test_size=0.25, random_state=1)"
      ],
      "execution_count": 26,
      "outputs": []
    },
    {
      "cell_type": "code",
      "metadata": {
        "colab": {
          "base_uri": "https://localhost:8080/"
        },
        "id": "Ofo5SxRDlpJ6",
        "outputId": "2712076d-295c-4f70-88d4-5d1276bf89a0"
      },
      "source": [
        "X_train.shape, y_train.shape, X_cv.shape, y_cv.shape"
      ],
      "execution_count": 27,
      "outputs": [
        {
          "output_type": "execute_result",
          "data": {
            "text/plain": [
              "((4504, 669), (4504,), (1502, 669), (1502,))"
            ]
          },
          "metadata": {
            "tags": []
          },
          "execution_count": 27
        }
      ]
    },
    {
      "cell_type": "code",
      "metadata": {
        "id": "bRAzvtBBlqwR"
      },
      "source": [
        "from math import sqrt \n",
        "from sklearn.metrics import mean_squared_log_error"
      ],
      "execution_count": 28,
      "outputs": []
    },
    {
      "cell_type": "code",
      "metadata": {
        "colab": {
          "base_uri": "https://localhost:8080/"
        },
        "id": "bDhhgBLolsWG",
        "outputId": "5ac9aa44-0b28-4768-8c0f-36417066d856"
      },
      "source": [
        "import lightgbm as lgb\n",
        "train_data = lgb.Dataset(X_train, label=y_train)\n",
        "test_data = lgb.Dataset(X_cv, label=y_cv)\n",
        "\n",
        "param = {'objective': 'regression',\n",
        "         'boosting': 'gbdt',  \n",
        "         'metric': 'l2_root',\n",
        "         'learning_rate': 0.05, \n",
        "         'num_iterations': 1000,\n",
        "         'num_leaves': 30,\n",
        "         'max_depth': -1,\n",
        "         'min_data_in_leaf': 4,\n",
        "         'bagging_fraction': 0.78,\n",
        "         'bagging_freq': 1,\n",
        "         'feature_fraction': 0.65,\n",
        "         }\n",
        "\n",
        "lgbm = lgb.train(params=param,\n",
        "                 verbose_eval=100,\n",
        "                 early_stopping_rounds=50,\n",
        "                 train_set=train_data,\n",
        "                 valid_sets=[test_data])\n",
        "\n",
        "y_pred_lgbm = lgbm.predict(X_cv)\n",
        "print('RMSLE:', sqrt(mean_squared_log_error(np.expm1(y_cv), np.expm1(y_pred_lgbm))))"
      ],
      "execution_count": 29,
      "outputs": [
        {
          "output_type": "stream",
          "text": [
            "Training until validation scores don't improve for 50 rounds.\n",
            "[100]\tvalid_0's rmse: 0.159436\n",
            "[200]\tvalid_0's rmse: 0.151521\n",
            "[300]\tvalid_0's rmse: 0.149596\n",
            "[400]\tvalid_0's rmse: 0.148437\n",
            "[500]\tvalid_0's rmse: 0.147981\n",
            "Early stopping, best iteration is:\n",
            "[523]\tvalid_0's rmse: 0.147785\n",
            "RMSLE: 0.14778459882945955\n"
          ],
          "name": "stdout"
        }
      ]
    },
    {
      "cell_type": "code",
      "metadata": {
        "colab": {
          "base_uri": "https://localhost:8080/",
          "height": 570
        },
        "id": "se_xMmOFluBy",
        "outputId": "9cd93af0-d717-4507-83c4-f84bf00c4c42"
      },
      "source": [
        "feature_imp = pd.DataFrame(sorted(zip(lgbm.feature_importance(), X.columns), reverse=True)[:15], \n",
        "                           columns=['Value','Feature'])\n",
        "plt.figure(figsize=(20, 10))\n",
        "sns.barplot(x=\"Value\", y=\"Feature\", data=feature_imp.sort_values(by=\"Value\", ascending=False))\n",
        "plt.title('LightGBM Features')\n",
        "plt.tight_layout()\n",
        "plt.show()"
      ],
      "execution_count": 30,
      "outputs": [
        {
          "output_type": "display_data",
          "data": {
            "image/png": "[encoded data removed]",
            "text/plain": [
              "<Figure size 1440x720 with 1 Axes>"
            ]
          },
          "metadata": {
            "tags": [],
            "needs_background": "light"
          }
        }
      ]
    },
    {
      "cell_type": "code",
      "metadata": {
        "id": "Nu-reUvZlwUA"
      },
      "source": [
        "Xtest = test_df"
      ],
      "execution_count": 31,
      "outputs": []
    },
    {
      "cell_type": "code",
      "metadata": {
        "colab": {
          "base_uri": "https://localhost:8080/"
        },
        "id": "EHQiiPPslzfs",
        "outputId": "689441d2-6af8-41a8-fb4d-cedd7d840da6"
      },
      "source": [
        "from sklearn.model_selection import KFold\n",
        "from lightgbm import LGBMRegressor\n",
        "\n",
        "errlgb = []\n",
        "y_pred_totlgb = []\n",
        "\n",
        "fold = KFold(n_splits=15, shuffle=True, random_state=42)\n",
        "\n",
        "for train_index, test_index in fold.split(X):\n",
        "    X_train, X_test = X.loc[train_index], X.loc[test_index]\n",
        "    y_train, y_test = y[train_index], y[test_index]\n",
        "\n",
        "    param = {'objective': 'regression',\n",
        "         'boosting': 'gbdt',  \n",
        "         'metric': 'l2_root',\n",
        "         'learning_rate': 0.05, \n",
        "         'num_iterations': 1000,\n",
        "         'num_leaves': 30,\n",
        "         'max_depth': -1,\n",
        "         'min_data_in_leaf': 4,\n",
        "         'bagging_fraction': 0.78,\n",
        "         'bagging_freq': 1,\n",
        "         'feature_fraction': 0.65\n",
        "         }\n",
        "\n",
        "    lgbm = LGBMRegressor(**param)\n",
        "    lgbm.fit(X_train, y_train, eval_set=[(X_test, y_test)], verbose=0, early_stopping_rounds=50)\n",
        "\n",
        "    y_pred_lgbm = lgbm.predict(X_test)\n",
        "    print(\"RMSLE LGBM: \", sqrt(mean_squared_log_error(np.expm1(y_test), np.expm1(y_pred_lgbm))))\n",
        "\n",
        "    errlgb.append(sqrt(mean_squared_log_error(np.expm1(y_test), np.expm1(y_pred_lgbm))))\n",
        "    p = lgbm.predict(Xtest)\n",
        "    \n",
        "    y_pred_totlgb.append(p)"
      ],
      "execution_count": 33,
      "outputs": [
        {
          "output_type": "stream",
          "text": [
            "RMSLE LGBM:  0.12866898183129968\n",
            "RMSLE LGBM:  0.13139370467116854\n",
            "RMSLE LGBM:  0.11344616345368407\n",
            "RMSLE LGBM:  0.11975185795400926\n",
            "RMSLE LGBM:  0.11980457320185744\n",
            "RMSLE LGBM:  0.14050694807799952\n",
            "RMSLE LGBM:  0.20325239405114065\n",
            "RMSLE LGBM:  0.10448109002451181\n",
            "RMSLE LGBM:  0.13963273693864348\n",
            "RMSLE LGBM:  0.12628331153939218\n",
            "RMSLE LGBM:  0.11096307367372546\n",
            "RMSLE LGBM:  0.1123144852952687\n",
            "RMSLE LGBM:  0.12194645872404057\n",
            "RMSLE LGBM:  0.12553123078897566\n",
            "RMSLE LGBM:  0.14772469432749555\n"
          ],
          "name": "stdout"
        }
      ]
    },
    {
      "cell_type": "code",
      "metadata": {
        "colab": {
          "base_uri": "https://localhost:8080/"
        },
        "id": "3lmp97Cml1pY",
        "outputId": "8cb81d8f-e68b-49f9-9d4f-ce9cb998fee3"
      },
      "source": [
        "np.mean(errlgb)"
      ],
      "execution_count": 34,
      "outputs": [
        {
          "output_type": "execute_result",
          "data": {
            "text/plain": [
              "0.12971344697021417"
            ]
          },
          "metadata": {
            "tags": []
          },
          "execution_count": 34
        }
      ]
    },
    {
      "cell_type": "code",
      "metadata": {
        "id": "Sof1_FMmmAbd"
      },
      "source": [
        "lgbm_final = np.expm1(np.mean(y_pred_totlgb,0))"
      ],
      "execution_count": 35,
      "outputs": []
    },
    {
      "cell_type": "code",
      "metadata": {
        "colab": {
          "base_uri": "https://localhost:8080/"
        },
        "id": "f3ufL7QJmRkM",
        "outputId": "4d9c1447-d971-457c-9d94-fdf30f9497c0"
      },
      "source": [
        "pip install xlsxwriter"
      ],
      "execution_count": 44,
      "outputs": [
        {
          "output_type": "stream",
          "text": [
            "Collecting xlsxwriter\n",
            "\u001b[?25l  Downloading https://files.pythonhosted.org/packages/6b/41/bf1aae04932d1eaffee1fc5f8b38ca47bbbf07d765129539bc4bcce1ce0c/XlsxWriter-1.3.7-py2.py3-none-any.whl (144kB)\n",
            "\r\u001b[K     |██▎                             | 10kB 16.8MB/s eta 0:00:01\r\u001b[K     |████▌                           | 20kB 22.4MB/s eta 0:00:01\r\u001b[K     |██████▉                         | 30kB 12.3MB/s eta 0:00:01\r\u001b[K     |█████████                       | 40kB 11.0MB/s eta 0:00:01\r\u001b[K     |███████████▎                    | 51kB 9.3MB/s eta 0:00:01\r\u001b[K     |█████████████▋                  | 61kB 9.3MB/s eta 0:00:01\r\u001b[K     |███████████████▉                | 71kB 9.1MB/s eta 0:00:01\r\u001b[K     |██████████████████▏             | 81kB 9.1MB/s eta 0:00:01\r\u001b[K     |████████████████████▍           | 92kB 8.6MB/s eta 0:00:01\r\u001b[K     |██████████████████████▋         | 102kB 8.6MB/s eta 0:00:01\r\u001b[K     |█████████████████████████       | 112kB 8.6MB/s eta 0:00:01\r\u001b[K     |███████████████████████████▏    | 122kB 8.6MB/s eta 0:00:01\r\u001b[K     |█████████████████████████████▌  | 133kB 8.6MB/s eta 0:00:01\r\u001b[K     |███████████████████████████████▊| 143kB 8.6MB/s eta 0:00:01\r\u001b[K     |████████████████████████████████| 153kB 8.6MB/s \n",
            "\u001b[?25hInstalling collected packages: xlsxwriter\n",
            "Successfully installed xlsxwriter-1.3.7\n"
          ],
          "name": "stdout"
        }
      ]
    },
    {
      "cell_type": "code",
      "metadata": {
        "id": "Z7rhbGJOl9wi"
      },
      "source": [
        "df_sub = pd.DataFrame(data=lgbm_final, columns=['Price'])\n",
        "writer = pd.ExcelWriter('Output.xlsx', engine='xlsxwriter')\n",
        "df_sub.to_excel(writer,sheet_name='Sheet1', index=False)\n",
        "writer.save()"
      ],
      "execution_count": 45,
      "outputs": []
    },
    {
      "cell_type": "code",
      "metadata": {
        "colab": {
          "base_uri": "https://localhost:8080/"
        },
        "id": "3oO260G7mCMe",
        "outputId": "29142511-7b31-46b5-ac67-24ce8ca25215"
      },
      "source": [
        "df_sub.shape"
      ],
      "execution_count": 46,
      "outputs": [
        {
          "output_type": "execute_result",
          "data": {
            "text/plain": [
              "(1234, 1)"
            ]
          },
          "metadata": {
            "tags": []
          },
          "execution_count": 46
        }
      ]
    },
    {
      "cell_type": "code",
      "metadata": {
        "colab": {
          "base_uri": "https://localhost:8080/",
          "height": 195
        },
        "id": "AW00iKeMmDi6",
        "outputId": "70207719-c131-48af-a3bc-5511b64c61f9"
      },
      "source": [
        "df_sub.head()"
      ],
      "execution_count": 47,
      "outputs": [
        {
          "output_type": "execute_result",
          "data": {
            "text/html": [
              "<div>\n",
              "<style scoped>\n",
              "    .dataframe tbody tr th:only-of-type {\n",
              "        vertical-align: middle;\n",
              "    }\n",
              "\n",
              "    .dataframe tbody tr th {\n",
              "        vertical-align: top;\n",
              "    }\n",
              "\n",
              "    .dataframe thead th {\n",
              "        text-align: right;\n",
              "    }\n",
              "</style>\n",
              "<table border=\"1\" class=\"dataframe\">\n",
              "  <thead>\n",
              "    <tr style=\"text-align: right;\">\n",
              "      <th></th>\n",
              "      <th>Price</th>\n",
              "    </tr>\n",
              "  </thead>\n",
              "  <tbody>\n",
              "    <tr>\n",
              "      <th>0</th>\n",
              "      <td>2.587976</td>\n",
              "    </tr>\n",
              "    <tr>\n",
              "      <th>1</th>\n",
              "      <td>2.934473</td>\n",
              "    </tr>\n",
              "    <tr>\n",
              "      <th>2</th>\n",
              "      <td>16.705960</td>\n",
              "    </tr>\n",
              "    <tr>\n",
              "      <th>3</th>\n",
              "      <td>3.865257</td>\n",
              "    </tr>\n",
              "    <tr>\n",
              "      <th>4</th>\n",
              "      <td>4.514308</td>\n",
              "    </tr>\n",
              "  </tbody>\n",
              "</table>\n",
              "</div>"
            ],
            "text/plain": [
              "       Price\n",
              "0   2.587976\n",
              "1   2.934473\n",
              "2  16.705960\n",
              "3   3.865257\n",
              "4   4.514308"
            ]
          },
          "metadata": {
            "tags": []
          },
          "execution_count": 47
        }
      ]
    },
    {
      "cell_type": "code",
      "metadata": {
        "id": "wvS_h4F0mH3B"
      },
      "source": [
        ""
      ],
      "execution_count": null,
      "outputs": []
    }
  ]
}